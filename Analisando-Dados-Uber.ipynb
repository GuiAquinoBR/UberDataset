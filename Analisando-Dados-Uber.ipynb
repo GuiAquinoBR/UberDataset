{
 "cells": [
  {
   "cell_type": "code",
   "execution_count": 1,
   "metadata": {},
   "outputs": [],
   "source": [
    "from pandas import read_csv"
   ]
  },
  {
   "cell_type": "code",
   "execution_count": 2,
   "metadata": {},
   "outputs": [],
   "source": [
    "# Criando um objeto Pandas\n",
    "uberFile = read_csv(\"data/uber.csv\")"
   ]
  },
  {
   "cell_type": "code",
   "execution_count": 3,
   "metadata": {},
   "outputs": [
    {
     "data": {
      "text/plain": [
       "pandas.core.frame.DataFrame"
      ]
     },
     "execution_count": 3,
     "metadata": {},
     "output_type": "execute_result"
    }
   ],
   "source": [
    "type(uberFile)"
   ]
  },
  {
   "cell_type": "code",
   "execution_count": 4,
   "metadata": {},
   "outputs": [
    {
     "data": {
      "text/html": [
       "<div>\n",
       "<style scoped>\n",
       "    .dataframe tbody tr th:only-of-type {\n",
       "        vertical-align: middle;\n",
       "    }\n",
       "\n",
       "    .dataframe tbody tr th {\n",
       "        vertical-align: top;\n",
       "    }\n",
       "\n",
       "    .dataframe thead th {\n",
       "        text-align: right;\n",
       "    }\n",
       "</style>\n",
       "<table border=\"1\" class=\"dataframe\">\n",
       "  <thead>\n",
       "    <tr style=\"text-align: right;\">\n",
       "      <th></th>\n",
       "      <th>dispatching_base_number</th>\n",
       "      <th>date</th>\n",
       "      <th>active_vehicles</th>\n",
       "      <th>trips</th>\n",
       "    </tr>\n",
       "  </thead>\n",
       "  <tbody>\n",
       "    <tr>\n",
       "      <td>0</td>\n",
       "      <td>B02512</td>\n",
       "      <td>1/1/2015</td>\n",
       "      <td>190</td>\n",
       "      <td>1132</td>\n",
       "    </tr>\n",
       "    <tr>\n",
       "      <td>1</td>\n",
       "      <td>B02765</td>\n",
       "      <td>1/1/2015</td>\n",
       "      <td>225</td>\n",
       "      <td>1765</td>\n",
       "    </tr>\n",
       "    <tr>\n",
       "      <td>2</td>\n",
       "      <td>B02764</td>\n",
       "      <td>1/1/2015</td>\n",
       "      <td>3427</td>\n",
       "      <td>29421</td>\n",
       "    </tr>\n",
       "    <tr>\n",
       "      <td>3</td>\n",
       "      <td>B02682</td>\n",
       "      <td>1/1/2015</td>\n",
       "      <td>945</td>\n",
       "      <td>7679</td>\n",
       "    </tr>\n",
       "    <tr>\n",
       "      <td>4</td>\n",
       "      <td>B02617</td>\n",
       "      <td>1/1/2015</td>\n",
       "      <td>1228</td>\n",
       "      <td>9537</td>\n",
       "    </tr>\n",
       "    <tr>\n",
       "      <td>5</td>\n",
       "      <td>B02598</td>\n",
       "      <td>1/1/2015</td>\n",
       "      <td>870</td>\n",
       "      <td>6903</td>\n",
       "    </tr>\n",
       "    <tr>\n",
       "      <td>6</td>\n",
       "      <td>B02598</td>\n",
       "      <td>1/2/2015</td>\n",
       "      <td>785</td>\n",
       "      <td>4768</td>\n",
       "    </tr>\n",
       "    <tr>\n",
       "      <td>7</td>\n",
       "      <td>B02617</td>\n",
       "      <td>1/2/2015</td>\n",
       "      <td>1137</td>\n",
       "      <td>7065</td>\n",
       "    </tr>\n",
       "    <tr>\n",
       "      <td>8</td>\n",
       "      <td>B02512</td>\n",
       "      <td>1/2/2015</td>\n",
       "      <td>175</td>\n",
       "      <td>875</td>\n",
       "    </tr>\n",
       "    <tr>\n",
       "      <td>9</td>\n",
       "      <td>B02682</td>\n",
       "      <td>1/2/2015</td>\n",
       "      <td>890</td>\n",
       "      <td>5506</td>\n",
       "    </tr>\n",
       "  </tbody>\n",
       "</table>\n",
       "</div>"
      ],
      "text/plain": [
       "  dispatching_base_number      date  active_vehicles  trips\n",
       "0                  B02512  1/1/2015              190   1132\n",
       "1                  B02765  1/1/2015              225   1765\n",
       "2                  B02764  1/1/2015             3427  29421\n",
       "3                  B02682  1/1/2015              945   7679\n",
       "4                  B02617  1/1/2015             1228   9537\n",
       "5                  B02598  1/1/2015              870   6903\n",
       "6                  B02598  1/2/2015              785   4768\n",
       "7                  B02617  1/2/2015             1137   7065\n",
       "8                  B02512  1/2/2015              175    875\n",
       "9                  B02682  1/2/2015              890   5506"
      ]
     },
     "execution_count": 4,
     "metadata": {},
     "output_type": "execute_result"
    }
   ],
   "source": [
    "# Visualizando as primeiras linhas\n",
    "uberFile.head(10)"
   ]
  },
  {
   "cell_type": "code",
   "execution_count": 5,
   "metadata": {},
   "outputs": [],
   "source": [
    "# Tranformando o dataframe (Pandas) em um Dataframe (Spark)\n",
    "uberDF = sqlContext.createDataFrame(uberFile)"
   ]
  },
  {
   "cell_type": "code",
   "execution_count": 6,
   "metadata": {},
   "outputs": [
    {
     "data": {
      "text/plain": [
       "pyspark.sql.dataframe.DataFrame"
      ]
     },
     "execution_count": 6,
     "metadata": {},
     "output_type": "execute_result"
    }
   ],
   "source": [
    "type(uberDF)"
   ]
  },
  {
   "cell_type": "code",
   "execution_count": 7,
   "metadata": {},
   "outputs": [],
   "source": [
    "# Criando o RDD a partir do arquivo csv\n",
    "uberRDD = sc.textFile(\"data/uber.csv\")"
   ]
  },
  {
   "cell_type": "code",
   "execution_count": 8,
   "metadata": {},
   "outputs": [
    {
     "data": {
      "text/plain": [
       "pyspark.rdd.RDD"
      ]
     },
     "execution_count": 8,
     "metadata": {},
     "output_type": "execute_result"
    }
   ],
   "source": [
    "type(uberRDD)"
   ]
  },
  {
   "cell_type": "code",
   "execution_count": 9,
   "metadata": {},
   "outputs": [
    {
     "data": {
      "text/plain": [
       "355"
      ]
     },
     "execution_count": 9,
     "metadata": {},
     "output_type": "execute_result"
    }
   ],
   "source": [
    "# Total de registros\n",
    "uberRDD.count()"
   ]
  },
  {
   "cell_type": "code",
   "execution_count": 10,
   "metadata": {},
   "outputs": [
    {
     "data": {
      "text/plain": [
       "'dispatching_base_number,date,active_vehicles,trips'"
      ]
     },
     "execution_count": 10,
     "metadata": {},
     "output_type": "execute_result"
    }
   ],
   "source": [
    "# Primeiro registro\n",
    "uberRDD.first()"
   ]
  },
  {
   "cell_type": "code",
   "execution_count": 11,
   "metadata": {},
   "outputs": [
    {
     "data": {
      "text/plain": [
       "6"
      ]
     },
     "execution_count": 11,
     "metadata": {},
     "output_type": "execute_result"
    }
   ],
   "source": [
    "# 1- Quantos são e quais são as bases de carros do Uber (onde os carros ficam esperando passageiros)?\n",
    "\n",
    "# Quantos são?\n",
    "uberDF.select('dispatching_base_number').distinct().count()"
   ]
  },
  {
   "cell_type": "code",
   "execution_count": 12,
   "metadata": {},
   "outputs": [
    {
     "name": "stdout",
     "output_type": "stream",
     "text": [
      "+-----------------------+\n",
      "|dispatching_base_number|\n",
      "+-----------------------+\n",
      "|                 B02512|\n",
      "|                 B02598|\n",
      "|                 B02682|\n",
      "|                 B02765|\n",
      "|                 B02617|\n",
      "|                 B02764|\n",
      "+-----------------------+\n",
      "\n"
     ]
    }
   ],
   "source": [
    "# Quais são?\n",
    "uberDF.select('dispatching_base_number').distinct().show()"
   ]
  },
  {
   "cell_type": "code",
   "execution_count": 13,
   "metadata": {},
   "outputs": [
    {
     "data": {
      "text/plain": [
       "59"
      ]
     },
     "execution_count": 13,
     "metadata": {},
     "output_type": "execute_result"
    }
   ],
   "source": [
    "# 2- Qual o total de veículos que passaram pela base B02617?\n",
    "\n",
    "uberDF.filter(uberDF['dispatching_base_number'] == 'B02617').count()"
   ]
  },
  {
   "cell_type": "code",
   "execution_count": 14,
   "metadata": {},
   "outputs": [
    {
     "data": {
      "text/plain": [
       "66"
      ]
     },
     "execution_count": 14,
     "metadata": {},
     "output_type": "execute_result"
    }
   ],
   "source": [
    "# 3- Qual é o total de dias em que o número de corridas foi superior a 16000?\n",
    "\n",
    "uberDF.filter(uberDF['trips'] > 16000).count()"
   ]
  },
  {
   "cell_type": "code",
   "execution_count": 15,
   "metadata": {},
   "outputs": [
    {
     "name": "stdout",
     "output_type": "stream",
     "text": [
      "+-----------------------+---------+---------------+-----+\n",
      "|dispatching_base_number|     date|active_vehicles|trips|\n",
      "+-----------------------+---------+---------------+-----+\n",
      "|                 B02764| 1/1/2015|           3427|29421|\n",
      "|                 B02764| 1/2/2015|           3147|19974|\n",
      "|                 B02764| 1/3/2015|           3215|29729|\n",
      "|                 B02764| 1/4/2015|           2862|20441|\n",
      "|                 B02764| 1/5/2015|           3387|20926|\n",
      "|                 B02764| 1/6/2015|           3473|25301|\n",
      "|                 B02764| 1/7/2015|           3603|29949|\n",
      "|                 B02764| 1/8/2015|           3831|33802|\n",
      "|                 B02764| 1/9/2015|           3820|33517|\n",
      "|                 B02764|1/10/2015|           3558|38864|\n",
      "|                 B02764|1/11/2015|           3186|27681|\n",
      "|                 B02764|1/12/2015|           3499|26852|\n",
      "|                 B02764|1/13/2015|           3658|29983|\n",
      "|                 B02764|1/14/2015|           3736|29550|\n",
      "|                 B02764|1/15/2015|           3840|31214|\n",
      "|                 B02764|1/16/2015|           3975|34822|\n",
      "|                 B02764|1/17/2015|           3657|36318|\n",
      "|                 B02764|1/18/2015|           3290|35182|\n",
      "|                 B02764|1/19/2015|           2958|22750|\n",
      "|                 B02764|1/20/2015|           3654|26137|\n",
      "+-----------------------+---------+---------------+-----+\n",
      "only showing top 20 rows\n",
      "\n"
     ]
    }
   ],
   "source": [
    "# 4- Quais são os dias em que o total de corridas foi maior que 16000?\n",
    "uberDF.filter(uberDF['trips'] > 16000).show()"
   ]
  },
  {
   "cell_type": "code",
   "execution_count": 17,
   "metadata": {},
   "outputs": [
    {
     "name": "stdout",
     "output_type": "stream",
     "text": [
      "+-----------------------+--------------------+\n",
      "|dispatching_base_number|sum(active_vehicles)|\n",
      "+-----------------------+--------------------+\n",
      "|                 B02512|               13125|\n",
      "|                 B02598|               58653|\n",
      "|                 B02682|               71431|\n",
      "|                 B02765|               22575|\n",
      "|                 B02617|               79758|\n",
      "|                 B02764|              217290|\n",
      "+-----------------------+--------------------+\n",
      "\n"
     ]
    }
   ],
   "source": [
    "# 5- Qual o total de corridas por base?\n",
    "\n",
    "uberDF.groupBy(uberDF['dispatching_base_number']).agg({'active_vehicles':'sum'}).show()"
   ]
  }
 ],
 "metadata": {
  "kernelspec": {
   "display_name": "Python 3",
   "language": "python",
   "name": "python3"
  },
  "language_info": {
   "codemirror_mode": {
    "name": "ipython",
    "version": 3
   },
   "file_extension": ".py",
   "mimetype": "text/x-python",
   "name": "python",
   "nbconvert_exporter": "python",
   "pygments_lexer": "ipython3",
   "version": "3.7.3"
  }
 },
 "nbformat": 4,
 "nbformat_minor": 2
}
